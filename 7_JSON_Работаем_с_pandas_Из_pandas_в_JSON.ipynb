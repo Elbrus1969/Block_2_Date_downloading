{
  "cells": [
    {
      "cell_type": "markdown",
      "metadata": {
        "id": "fT3RUs1LbN5N"
      },
      "source": [
        "ИЗ PANDAS В JSON"
      ]
    },
    {
      "cell_type": "code",
      "execution_count": 1,
      "metadata": {
        "id": "zvRv5jiCbk_9"
      },
      "outputs": [],
      "source": [
        "# Импортируем модуль json\n",
        "import json\n",
        "# Импортируем функцию pprint()\n",
        "from pprint import pprint\n",
        "# Импортируем модуль pandas\n",
        "import pandas as pd\n",
        "\n",
        "# Создаём DataFrame, читаем данные из файла в переменную df\n",
        "df = pd.read_csv('data/recipes.csv')"
      ]
    },
    {
      "cell_type": "markdown",
      "metadata": {
        "id": "KoXBuss5bqHT"
      },
      "source": [
        "Теперь, используя только данные из этого файла, нам нужно в точности воссоздать структуру исходного JSON-файла. Мы помним, что после десериализации данные представляли собой список, состоящий из словарей. В каждом словаре хранилась информация о рецепте одного блюда. Каждый словарь состоял из трёх пар \"ключ-значение\". Первая пара содержала название кухни, к которой относилось блюдо, вторая — id блюда, и третья — список ингредиентов входящих в состав блюда."
      ]
    },
    {
      "cell_type": "markdown",
      "metadata": {
        "id": "AUas4d4WtQuG"
      },
      "source": [
        "Напишите код для создания списка id всех блюд, нужны только уникальные значения представленных в DataFrame. Результирующий список занесите в переменную ids."
      ]
    },
    {
      "cell_type": "code",
      "execution_count": 2,
      "metadata": {
        "id": "57rlhJY-tZ7m"
      },
      "outputs": [],
      "source": [
        "lst = df['id']\n",
        "ids = list()\n",
        "for elem in lst:\n",
        "        ids.append(elem)"
      ]
    },
    {
      "cell_type": "markdown",
      "metadata": {
        "id": "q6TyVsKHysUi"
      },
      "source": [
        "Напишите код для создания списка ингредиентов всех блюд, представленных в DataFrame. Результирующий список занесите в переменную ingredients."
      ]
    },
    {
      "cell_type": "code",
      "execution_count": 3,
      "metadata": {
        "id": "BQ-Zbs0q3DoM"
      },
      "outputs": [],
      "source": [
        "ingredients = []\n",
        "for i in df.columns:\n",
        "    ingredients.append(i)\n",
        "ingredients = ingredients[3:]"
      ]
    },
    {
      "cell_type": "markdown",
      "metadata": {
        "id": "CqKjQa6Zyl0M"
      },
      "source": [
        "Сейчас нам предстоит воссоздать эту структуру, извлекая данные из DataFrame. Для этого необходимо создать:\n",
        "\n",
        "пустой список new_recipes — для хранения итоговой структуры;\n",
        "используя код из Задачи 7.1, список ids — для хранения id всех блюд;\n",
        "используя код из Задачи 7.2, список ingredients — для хранения названий всех ингредиентов."
      ]
    },
    {
      "cell_type": "code",
      "execution_count": 4,
      "metadata": {},
      "outputs": [],
      "source": [
        "def make_list(row):\n",
        "    global ingredients\n",
        "    lst = []\n",
        "    i = 0\n",
        "    for item in row[3:]:\n",
        "        if item == 1:\n",
        "            lst.append(ingredients[i])\n",
        "        i+=1\n",
        "    return lst"
      ]
    },
    {
      "cell_type": "code",
      "execution_count": 5,
      "metadata": {
        "id": "xrwt3F3S-m6U"
      },
      "outputs": [],
      "source": [
        "# Создаём пустой список для хранения итоговой структуры\n",
        "new_recipes = []\n",
        "# Организуем цикл с параметром current_id\n",
        "for current_id in ids:\n",
        "    # Получаем значение соответствующей кухни, применив фильтр по текущему значению параметра цикла к DataFrame;\n",
        "    cuisine = df[df['id'] == current_id]['cuisine'].iloc[0]\n",
        "    # Получаем перечень ингредиентов, входящих в состав текущего блюда\n",
        "    current_ingredients = make_list(df[df['id'] == current_id])\n",
        "    # Создаём текущий словарь\n",
        "    current_recipe = {'cuisine': cuisine, 'id': int(current_id), 'ingredients': current_ingredients}\n",
        "    # Добавляем созданный словарь к списку\n",
        "    new_recipes.append(current_recipe)"
      ]
    },
    {
      "cell_type": "code",
      "execution_count": 6,
      "metadata": {
        "id": "bH4X-G1GqOaR"
      },
      "outputs": [],
      "source": [
        "list_ingr = []\n",
        "for i in df.index:\n",
        "    row = make_list(df.loc[i])\n",
        "    list_ingr.append(row)\n",
        "\n"
      ]
    },
    {
      "cell_type": "code",
      "execution_count": 7,
      "metadata": {
        "id": "zMZSnZ21-7wi"
      },
      "outputs": [],
      "source": [
        "\n",
        "# Функция dumps() модуля json сериализирует объект Python в строку формата JSON.\n",
        "new_recipes = json.dumps(new_recipes)\n",
        "\n",
        "# Откроем файл new_recipes.json для записи\n",
        "with open('data/new_recipes.json', 'w') as write_file:\n",
        "    # Записываем содержимое подготовленные данные в файл\n",
        "    write_file.write(new_recipes)"
      ]
    }
  ],
  "metadata": {
    "colab": {
      "provenance": []
    },
    "kernelspec": {
      "display_name": "Python 3",
      "name": "python3"
    },
    "language_info": {
      "codemirror_mode": {
        "name": "ipython",
        "version": 3
      },
      "file_extension": ".py",
      "mimetype": "text/x-python",
      "name": "python",
      "nbconvert_exporter": "python",
      "pygments_lexer": "ipython3",
      "version": "3.10.8"
    }
  },
  "nbformat": 4,
  "nbformat_minor": 0
}
