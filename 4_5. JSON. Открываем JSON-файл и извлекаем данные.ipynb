{
  "cells": [
    {
      "cell_type": "markdown",
      "metadata": {
        "id": "oqkGd13UpQtp"
      },
      "source": [
        "МОДУЛИ ДЛЯ РАБОТЫ С JSON"
      ]
    },
    {
      "cell_type": "code",
      "execution_count": 10,
      "metadata": {
        "id": "ztGgQeSwpQts"
      },
      "outputs": [],
      "source": [
        "# Импортируем модуль json\n",
        "import json\n",
        "# Импортируем функцию pprint()\n",
        "from pprint import pprint"
      ]
    },
    {
      "cell_type": "markdown",
      "metadata": {
        "id": "MRhTTN6opQtu"
      },
      "source": [
        "→ Чтобы перевести данные из формата JSON в формат, который можно обрабатывать инструментами Python, необходимо выполнить процедуру, которая называется десериализация (декодирование данных). Обратный процесс, связанный с переводом структур данных Python в формат JSON, называется сериализацией.\n",
        "Для выполнения десериализации мы воспользуемся методом load() (от англ. загрузить) модуля json, который принимает на вход ссылку на открытый JSON-файл:"
      ]
    },
    {
      "cell_type": "code",
      "execution_count": 17,
      "metadata": {
        "colab": {
          "base_uri": "https://localhost:8080/"
        },
        "id": "yFFi9NoKpQtu",
        "outputId": "ee8abc95-a87e-4782-9cdc-ffa3b80615ba"
      },
      "outputs": [
        {
          "data": {
            "text/plain": [
              "9"
            ]
          },
          "execution_count": 17,
          "metadata": {},
          "output_type": "execute_result"
        }
      ],
      "source": [
        "# Открываем файл и связываем его с объектом \"f\"\n",
        "with open('data/recipes.json') as f:\n",
        "    # Загружаем содержимое открытого файла в переменную recipes\n",
        "    recipes = json.load(f)\n",
        "\n",
        "# Выводим на экран содержимое переменной recipes, используя функцию pprint()\n",
        "\n",
        "\n",
        "\n",
        "len(recipes[0]['ingredients'])"
      ]
    },
    {
      "cell_type": "markdown",
      "metadata": {
        "id": "V330H_w6pQtv"
      },
      "source": [
        "Мы также можем извлечь информацию о конкретном блюде по его ID. Для этого необходимо с помощью цикла, например for, перебрать все элементы списка, проверяя ключ 'id',  и извлечь нужную информацию, когда мы наконец найдем нужное блюдо."
      ]
    },
    {
      "cell_type": "code",
      "execution_count": 18,
      "metadata": {
        "colab": {
          "base_uri": "https://localhost:8080/"
        },
        "id": "ijujfgKUpQtv",
        "outputId": "4f8ac3cf-2e94-47da-d942-1df5333828ad"
      },
      "outputs": [
        {
          "name": "stdout",
          "output_type": "stream",
          "text": [
            "thai\n",
            "thai\n"
          ]
        }
      ],
      "source": [
        "for elem in range(len(recipes)):\n",
        "    if recipes[elem]['id'] == 13121:\n",
        "        print(recipes[elem]['cuisine'])\n",
        "        \n",
        "        \n",
        "# Начинаем перебор всех блюд, входящих в список\n",
        "for recipe in recipes: \n",
        "    # Если id текущего блюда равен заданному для поиска\n",
        "    if recipe['id'] == 13121: \n",
        "        # Выводим на экран наименование кухни, к которой относится блюдо\n",
        "        print(recipe['cuisine']) \n",
        "        # Прерываем выполнение цикла, т.к. нужное блюдо найдено\n",
        "        break"
      ]
    },
    {
      "cell_type": "markdown",
      "metadata": {
        "id": "lQ5Ag8SQpQtv"
      },
      "source": [
        "Какое количество уникальных национальных кухонь присутствуют в нашем наборе данных?"
      ]
    },
    {
      "cell_type": "code",
      "execution_count": 23,
      "metadata": {
        "colab": {
          "base_uri": "https://localhost:8080/"
        },
        "id": "QXcjFd0WpQtw",
        "outputId": "0e211cde-0a8f-4959-b518-66e68011b047"
      },
      "outputs": [
        {
          "name": "stdout",
          "output_type": "stream",
          "text": [
            "20\n",
            "20\n"
          ]
        }
      ],
      "source": [
        "\n",
        "\n",
        "cuisine = set()\n",
        "for elem in recipes:\n",
        "    cuisine.add(elem['cuisine'])\n",
        "pprint(len(cuisine))\n",
        "\n",
        "\n",
        "\n",
        "cuisines = [] \n",
        "\n",
        "# Начинаем перебор всех рецептов\n",
        "for recipe in recipes: \n",
        "    # Если тип кухни текущего блюда ещё не встречался\n",
        "    if not(recipe['cuisine'] in cuisines):\n",
        "        # Добавляем его к списку cuisines \n",
        "        cuisines.append(recipe['cuisine']) \n",
        "\n",
        "# Выводим на экран полученное значение\n",
        "print(len(cuisines))\n"
      ]
    },
    {
      "cell_type": "markdown",
      "metadata": {
        "id": "B-H21nZSpQtw"
      },
      "source": [
        "Какой из национальных кухонь принадлежит самое большое количество рецептов?"
      ]
    },
    {
      "cell_type": "code",
      "execution_count": 25,
      "metadata": {
        "colab": {
          "base_uri": "https://localhost:8080/"
        },
        "id": "92c5-8QLpQtx",
        "outputId": "da39db43-b46e-4510-d1fc-7b743b228486"
      },
      "outputs": [
        {
          "name": "stdout",
          "output_type": "stream",
          "text": [
            "italian\n",
            "italian\n"
          ]
        }
      ],
      "source": [
        "dic = {}\n",
        "for  cuis in cuisine:\n",
        "    ind = 0\n",
        "    for elem in recipes:\n",
        "        if elem['cuisine'] == cuis:\n",
        "            ind+=1\n",
        "    dic[cuis] = ind\n",
        "\n",
        "print(max(dic, key=dic.get))\n",
        "\n",
        "# Создаём пустой список для хранения уникальных значений кухонь\n",
        "cuisines = [] \n",
        "\n",
        "# Начинаем перебор всех рецептов\n",
        "for recipe in recipes: \n",
        "    # Если тип кухни текущего блюда ещё не встречался\n",
        "    if not(recipe['cuisine'] in cuisines):\n",
        "        # Добавляем его к списку cuisines \n",
        "        cuisines.append(recipe['cuisine']) \n",
        "\n",
        "# Создаём пустой словарь для хранения информации об количествах рецептов в каждой кухне\n",
        "valreccuisine = {} \n",
        "\n",
        "# Перебираем список кухонь\n",
        "for item in cuisines: \n",
        "    # Добавляем в словарь ключ, соответствующий очередной кухне\n",
        "    valreccuisine[item] = 0 \n",
        "\n",
        "# Перебираем список рецептов\n",
        "for recipe in recipes: \n",
        "    # Увеличиваем значение нужного ключа в словаре на 1\n",
        "    valreccuisine[recipe['cuisine']] += 1 \n",
        "\n",
        "# Извлекаем значения для всех ключей используя метод get(), выбираем самое максимальное значение (при наличии одинаковых значений будет выбрано первое в словаре) и выводим на экран ключ максимального значения\n",
        "print(max(valreccuisine, key=valreccuisine.get))"
      ]
    }
  ],
  "metadata": {
    "colab": {
      "provenance": []
    },
    "kernelspec": {
      "display_name": "Python 3",
      "language": "python",
      "name": "python3"
    },
    "language_info": {
      "codemirror_mode": {
        "name": "ipython",
        "version": 3
      },
      "file_extension": ".py",
      "mimetype": "text/x-python",
      "name": "python",
      "nbconvert_exporter": "python",
      "pygments_lexer": "ipython3",
      "version": "3.10.8"
    },
    "orig_nbformat": 4
  },
  "nbformat": 4,
  "nbformat_minor": 0
}
